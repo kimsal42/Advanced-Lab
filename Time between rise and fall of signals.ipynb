{
 "cells": [
  {
   "cell_type": "code",
   "execution_count": 1,
   "id": "59a5f415",
   "metadata": {},
   "outputs": [],
   "source": [
    "# import modules\n",
    "import pandas as pd\n",
    "import numpy as np\n",
    "from numpy import array, arange, pi, exp, sin, cos, polyfit, poly1d, linspace, zeros, flipud, sqrt\n",
    "import matplotlib.pyplot as plt\n",
    "from matplotlib.pyplot import *\n",
    "import scipy\n",
    "from scipy.optimize import curve_fit\n",
    "#resize graphs so they are big\n",
    "%matplotlib inline\n",
    "import matplotlib as mpl\n",
    "mpl.rcParams['figure.figsize'] = (12,8)\n",
    "mpl.rcParams['font.size'] = 14\n",
    "mpl.rcParams['legend.fontsize'] = 14\n",
    "from sklearn.cluster import MeanShift, estimate_bandwidth\n",
    "from sklearn.datasets import make_blobs\n",
    "import statistics\n",
    "import dataframe_image as dfi"
   ]
  },
  {
   "cell_type": "code",
   "execution_count": 3,
   "id": "280c35cb",
   "metadata": {},
   "outputs": [],
   "source": [
    "# Loading data for 50ft\n",
    "df = pd.read_csv('F0006CH1.csv', header = None)\n",
    "df2 = pd.read_csv('F0006CH2.csv', header = None)"
   ]
  },
  {
   "cell_type": "code",
   "execution_count": 8,
   "id": "0051fb9f",
   "metadata": {},
   "outputs": [],
   "source": [
    "Time = df[3] # selecting the time row from the column\n",
    "\n",
    "Voltage = df[4] # selecting the voltage "
   ]
  },
  {
   "cell_type": "code",
   "execution_count": 30,
   "id": "7979d1a0",
   "metadata": {},
   "outputs": [
    {
     "name": "stdout",
     "output_type": "stream",
     "text": [
      "Threshold voltage is reached\n",
      "1241 0.12\n",
      "The time for this threshold for signal is: -8e-10\n",
      "-8e-10\n"
     ]
    }
   ],
   "source": [
    "t2 = [] # initialising an empty list for the long cable\n",
    "V = Voltage\n",
    "ave = statistics.mean(V[0:1000])\n",
    "#print('noise mean',ave)\n",
    "stdd = statistics.stdev(V[0:1000])\n",
    "#print('standard deviation',stdd)\n",
    "v_o = ave + 5*stdd # Threshold velocity\n",
    "\n",
    "for i in range(len(V)):\n",
    "    if V[i] > v_o:\n",
    "        print(\"Threshold voltage is reached\")\n",
    "        print(i,V[i])\n",
    "        print(\"The time for this threshold for signal is:\", Time2[i])\n",
    "        t_1 = Time[i] \n",
    "        break\n",
    "print(t_1)\n",
    "Y = V[i]\n",
    "X = t_1\n",
    "\n",
    "#print('t2',t_50ft)"
   ]
  },
  {
   "cell_type": "code",
   "execution_count": 31,
   "id": "d835c426",
   "metadata": {},
   "outputs": [
    {
     "name": "stdout",
     "output_type": "stream",
     "text": [
      "0.11666470227908562\n"
     ]
    }
   ],
   "source": [
    "print(v_o)"
   ]
  },
  {
   "cell_type": "code",
   "execution_count": 34,
   "id": "8578c7b1",
   "metadata": {},
   "outputs": [
    {
     "name": "stdout",
     "output_type": "stream",
     "text": [
      "Threshold voltage is reached\n",
      "273 0.1\n",
      "The time for this threshold for signal is: 1.056e-07\n",
      "[]\n"
     ]
    },
    {
     "data": {
      "image/png": "[encoded data removed]",
      "text/plain": [
       "<Figure size 864x576 with 1 Axes>"
      ]
     },
     "metadata": {
      "needs_background": "light"
     },
     "output_type": "display_data"
    }
   ],
   "source": [
    "\n",
    "V = Voltage\n",
    "ave = statistics.mean(V[2000:3000])\n",
    "#print('noise mean',ave)\n",
    "stdd = statistics.stdev(V[2000:3000]) # \n",
    "#print('standard deviation',stdd)\n",
    "#v_o = ave + 3*stdd # Threshold velocity\n",
    "\n",
    "for i in range(len(V[1500:3000])):\n",
    "    if V[i+1500] < v_o:\n",
    "        print\n",
    "        print(\"Threshold voltage is reached\")\n",
    "        print(i,V[i+1500])\n",
    "        print(\"The time for this threshold for signal is:\", Time[i+1500])\n",
    "        t_2 = Time[i+1500] \n",
    "        break\n",
    "print(t2)\n",
    "\n",
    "\n",
    "\n",
    "# figure for the plots\n",
    "plt.plot(Time, Voltage, '*-c')\n",
    "#plt.plot(Time2, Voltage2, '*-c')\n",
    "\n",
    "Y2 = V[i]\n",
    "X2 = t_2\n",
    "xposition = [X, X2]\n",
    "colors = ['r','b']\n",
    "for xc,c in zip(xposition,colors):\n",
    "    plt.axvline(x=xc, label='line at t = {}'.format(xc), c=c)\n",
    "    \n",
    "yposition = [Y, Y2]\n",
    "for yc,c in zip(yposition,colors):\n",
    "    plt.axhline(y=yc, label='line at v = {}'.format(yc), c=c, linestyle='--')\n",
    "\n",
    "plt.xlabel('$time$ (ns)')\n",
    "plt.ylabel('$Voltage$ (v)')\n",
    "plt.show()"
   ]
  },
  {
   "cell_type": "code",
   "execution_count": 35,
   "id": "0d289ade",
   "metadata": {},
   "outputs": [
    {
     "name": "stdout",
     "output_type": "stream",
     "text": [
      "1.064e-07\n"
     ]
    }
   ],
   "source": [
    "print(t_2-t_1)"
   ]
  },
  {
   "cell_type": "code",
   "execution_count": null,
   "id": "caa8699d",
   "metadata": {},
   "outputs": [],
   "source": []
  }
 ],
 "metadata": {
  "kernelspec": {
   "display_name": "Python 3",
   "language": "python",
   "name": "python3"
  },
  "language_info": {
   "codemirror_mode": {
    "name": "ipython",
    "version": 3
   },
   "file_extension": ".py",
   "mimetype": "text/x-python",
   "name": "python",
   "nbconvert_exporter": "python",
   "pygments_lexer": "ipython3",
   "version": "3.8.8"
  }
 },
 "nbformat": 4,
 "nbformat_minor": 5
}
